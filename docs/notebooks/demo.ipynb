{
 "cells": [
  {
   "attachments": {},
   "cell_type": "markdown",
   "metadata": {},
   "source": [
    "# Demo, 2023-03-07"
   ]
  },
  {
   "cell_type": "code",
   "execution_count": 1,
   "metadata": {},
   "outputs": [
    {
     "name": "stderr",
     "output_type": "stream",
     "text": [
      "/Users/tim.treis/anaconda3/envs/spatialdata/lib/python3.10/site-packages/geopandas/_compat.py:123: UserWarning: The Shapely GEOS version (3.11.1-CAPI-1.17.1) is incompatible with the GEOS version PyGEOS was compiled with (3.10.4-CAPI-1.16.2). Conversions between both will be slow.\n",
      "  warnings.warn(\n",
      "/Users/tim.treis/Documents/GitHub/spatialdata/spatialdata/__init__.py:9: UserWarning: Geopandas was set to use PyGEOS, changing to shapely 2.0 with:\n",
      "\n",
      "\tgeopandas.options.use_pygeos = True\n",
      "\n",
      "If you intended to use PyGEOS, set the option to False.\n",
      "  _check_geopandas_using_shapely()\n",
      "/Users/tim.treis/anaconda3/envs/spatialdata/lib/python3.10/site-packages/anndata/experimental/pytorch/_annloader.py:18: UserWarning: Сould not load pytorch.\n",
      "  warnings.warn(\"Сould not load pytorch.\")\n"
     ]
    }
   ],
   "source": [
    "%load_ext autoreload\n",
    "%autoreload 2\n",
    "\n",
    "import spatialdata as sd\n",
    "import spatialdata_plot"
   ]
  },
  {
   "attachments": {},
   "cell_type": "markdown",
   "metadata": {},
   "source": [
    "## Load data from spatialdata-sandbox"
   ]
  },
  {
   "cell_type": "code",
   "execution_count": 2,
   "metadata": {},
   "outputs": [
    {
     "data": {
      "text/plain": [
       "SpatialData object with:\n",
       "├── Images\n",
       "│     ├── 'point8_image': SpatialImage[cyx] (3, 1024, 1024)\n",
       "│     ├── 'point16_image': SpatialImage[cyx] (3, 1024, 1024)\n",
       "│     └── 'point23_image': SpatialImage[cyx] (3, 1024, 1024)\n",
       "├── Labels\n",
       "│     ├── 'point8_labels': SpatialImage[yx] (1024, 1024)\n",
       "│     ├── 'point16_labels': SpatialImage[yx] (1024, 1024)\n",
       "│     └── 'point23_labels': SpatialImage[yx] (1024, 1024)\n",
       "└── Table\n",
       "      └── AnnData object with n_obs × n_vars = 3309 × 36\n",
       "    obs: 'row_num', 'point', 'cell_id', 'X1', 'center_rowcoord', 'center_colcoord', 'cell_size', 'category', 'donor', 'Cluster', 'batch', 'library_id'\n",
       "    uns: 'spatialdata_attrs'\n",
       "    obsm: 'X_scanorama', 'X_umap', 'spatial': AnnData (3309, 36)\n",
       "with coordinate systems:\n",
       "▸ 'point8', with elements:\n",
       "        point8_image (Images), point8_labels (Labels)\n",
       "▸ 'point16', with elements:\n",
       "        point16_image (Images), point16_labels (Labels)\n",
       "▸ 'point23', with elements:\n",
       "        point23_image (Images), point23_labels (Labels)"
      ]
     },
     "execution_count": 2,
     "metadata": {},
     "output_type": "execute_result"
    }
   ],
   "source": [
    "data_dir = \"/Users/tim.treis/Documents/GitHub/spatialdata-sandbox/\"\n",
    "\n",
    "mibi = sd.read_zarr(data_dir  + \"mibitof/data.zarr\")\n",
    "mibi"
   ]
  },
  {
   "attachments": {},
   "cell_type": "markdown",
   "metadata": {},
   "source": [
    "## Use `sdata.pp.get_elements()` to subset data\n",
    "- Can be used to filter by `coordinate_systems`, `images`, `labels`, `polygons`, etc\n",
    "- Accepts the unique keys as a list of strings"
   ]
  },
  {
   "attachments": {},
   "cell_type": "markdown",
   "metadata": {},
   "source": [
    "#### Select two of the three coordinate systems (retains all members)"
   ]
  },
  {
   "cell_type": "code",
   "execution_count": 3,
   "metadata": {},
   "outputs": [
    {
     "data": {
      "text/plain": [
       "SpatialData object with:\n",
       "├── Images\n",
       "│     ├── 'point8_image': SpatialImage[cyx] (3, 1024, 1024)\n",
       "│     └── 'point16_image': SpatialImage[cyx] (3, 1024, 1024)\n",
       "├── Labels\n",
       "│     ├── 'point8_labels': SpatialImage[yx] (1024, 1024)\n",
       "│     └── 'point16_labels': SpatialImage[yx] (1024, 1024)\n",
       "└── Table\n",
       "      └── AnnData object with n_obs × n_vars = 2068 × 36\n",
       "    obs: 'row_num', 'point', 'cell_id', 'X1', 'center_rowcoord', 'center_colcoord', 'cell_size', 'category', 'donor', 'Cluster', 'batch', 'library_id'\n",
       "    uns: 'spatialdata_attrs'\n",
       "    obsm: 'X_scanorama', 'X_umap', 'spatial': AnnData (2068, 36)\n",
       "with coordinate systems:\n",
       "▸ 'point8', with elements:\n",
       "        point8_image (Images), point8_labels (Labels)\n",
       "▸ 'point16', with elements:\n",
       "        point16_image (Images), point16_labels (Labels)"
      ]
     },
     "execution_count": 3,
     "metadata": {},
     "output_type": "execute_result"
    }
   ],
   "source": [
    "mibi.pp.get_elements([\"point8\", \"point16\"])"
   ]
  },
  {
   "attachments": {},
   "cell_type": "markdown",
   "metadata": {},
   "source": [
    "#### Select only one image (only retains its coordinate system)"
   ]
  },
  {
   "cell_type": "code",
   "execution_count": 4,
   "metadata": {},
   "outputs": [
    {
     "data": {
      "text/plain": [
       "SpatialData object with:\n",
       "├── Images\n",
       "│     └── 'point8_image': SpatialImage[cyx] (3, 1024, 1024)\n",
       "└── Table\n",
       "      └── AnnData object with n_obs × n_vars = 3309 × 36\n",
       "    obs: 'row_num', 'point', 'cell_id', 'X1', 'center_rowcoord', 'center_colcoord', 'cell_size', 'category', 'donor', 'Cluster', 'batch', 'library_id'\n",
       "    uns: 'spatialdata_attrs'\n",
       "    obsm: 'X_scanorama', 'X_umap', 'spatial': AnnData (3309, 36)\n",
       "with coordinate systems:\n",
       "▸ 'point8', with elements:\n",
       "        point8_image (Images)"
      ]
     },
     "execution_count": 4,
     "metadata": {},
     "output_type": "execute_result"
    }
   ],
   "source": [
    "mibi.pp.get_elements([\"point8_image\"])"
   ]
  },
  {
   "attachments": {},
   "cell_type": "markdown",
   "metadata": {},
   "source": [
    "#### Pick and choose from different coordinate systems (is that useful?)"
   ]
  },
  {
   "cell_type": "code",
   "execution_count": 5,
   "metadata": {},
   "outputs": [
    {
     "data": {
      "text/plain": [
       "SpatialData object with:\n",
       "├── Images\n",
       "│     └── 'point8_image': SpatialImage[cyx] (3, 1024, 1024)\n",
       "├── Labels\n",
       "│     └── 'point16_labels': SpatialImage[yx] (1024, 1024)\n",
       "└── Table\n",
       "      └── AnnData object with n_obs × n_vars = 3309 × 36\n",
       "    obs: 'row_num', 'point', 'cell_id', 'X1', 'center_rowcoord', 'center_colcoord', 'cell_size', 'category', 'donor', 'Cluster', 'batch', 'library_id'\n",
       "    uns: 'spatialdata_attrs'\n",
       "    obsm: 'X_scanorama', 'X_umap', 'spatial': AnnData (3309, 36)\n",
       "with coordinate systems:\n",
       "▸ 'point8', with elements:\n",
       "        point8_image (Images)\n",
       "▸ 'point16', with elements:\n",
       "        point16_labels (Labels)"
      ]
     },
     "execution_count": 5,
     "metadata": {},
     "output_type": "execute_result"
    }
   ],
   "source": [
    "mibi.pp.get_elements([\"point8_image\", \"point16_labels\"])"
   ]
  },
  {
   "cell_type": "markdown",
   "metadata": {},
   "source": [
    "## Plot all labels contained in the object"
   ]
  },
  {
   "cell_type": "code",
   "execution_count": 11,
   "metadata": {},
   "outputs": [
    {
     "ename": "KeyError",
     "evalue": "'point16_image'",
     "output_type": "error",
     "traceback": [
      "\u001b[0;31m---------------------------------------------------------------------------\u001b[0m",
      "\u001b[0;31mKeyError\u001b[0m                                  Traceback (most recent call last)",
      "Cell \u001b[0;32mIn[11], line 2\u001b[0m\n\u001b[1;32m      1\u001b[0m _ \u001b[39m=\u001b[39m (\n\u001b[0;32m----> 2\u001b[0m     mibi\u001b[39m.\u001b[39;49mpl\u001b[39m.\u001b[39;49mrender_labels(cell_key\u001b[39m=\u001b[39;49m\u001b[39m\"\u001b[39;49m\u001b[39mcell_id\u001b[39;49m\u001b[39m\"\u001b[39;49m, color_key\u001b[39m=\u001b[39;49m\u001b[39m\"\u001b[39;49m\u001b[39mCluster\u001b[39;49m\u001b[39m\"\u001b[39;49m)\u001b[39m.\u001b[39;49mpl\u001b[39m.\u001b[39;49mshow()\n\u001b[1;32m      3\u001b[0m )\n",
      "File \u001b[0;32m~/Documents/GitHub/spatialdata-plot/src/spatialdata_plot/pl/basic.py:428\u001b[0m, in \u001b[0;36mPlotAccessor.show\u001b[0;34m(self, ax, ncols, width, height, bg_color, **kwargs)\u001b[0m\n\u001b[1;32m    425\u001b[0m     \u001b[39mfor\u001b[39;00m idx, ax \u001b[39min\u001b[39;00m \u001b[39menumerate\u001b[39m(axs):\n\u001b[1;32m    427\u001b[0m         key \u001b[39m=\u001b[39m \u001b[39mlist\u001b[39m(\u001b[39mself\u001b[39m\u001b[39m.\u001b[39m_sdata\u001b[39m.\u001b[39mlabels\u001b[39m.\u001b[39mkeys())[idx]\n\u001b[0;32m--> 428\u001b[0m         \u001b[39mself\u001b[39;49m\u001b[39m.\u001b[39;49m_render_labels(params\u001b[39m=\u001b[39;49mparams, key\u001b[39m=\u001b[39;49mkey, fig\u001b[39m=\u001b[39;49mfig, ax\u001b[39m=\u001b[39;49max)\n\u001b[1;32m    430\u001b[0m \u001b[39melse\u001b[39;00m:\n\u001b[1;32m    432\u001b[0m     \u001b[39mraise\u001b[39;00m \u001b[39mNotImplementedError\u001b[39;00m(\u001b[39mf\u001b[39m\u001b[39m\"\u001b[39m\u001b[39mCommand \u001b[39m\u001b[39m'\u001b[39m\u001b[39m{\u001b[39;00mcmd\u001b[39m}\u001b[39;00m\u001b[39m'\u001b[39m\u001b[39m is not supported.\u001b[39m\u001b[39m\"\u001b[39m)\n",
      "File \u001b[0;32m~/Documents/GitHub/spatialdata-plot/src/spatialdata_plot/pl/basic.py:225\u001b[0m, in \u001b[0;36mPlotAccessor._render_labels\u001b[0;34m(self, params, key, fig, ax)\u001b[0m\n\u001b[1;32m    221\u001b[0m \u001b[39mfor\u001b[39;00m k \u001b[39min\u001b[39;00m \u001b[39mself\u001b[39m\u001b[39m.\u001b[39m_sdata\u001b[39m.\u001b[39mimages\u001b[39m.\u001b[39mkeys():\n\u001b[1;32m    223\u001b[0m     \u001b[39mif\u001b[39;00m k \u001b[39mnot\u001b[39;00m \u001b[39min\u001b[39;00m region_mapping\u001b[39m.\u001b[39mkeys():\n\u001b[0;32m--> 225\u001b[0m         \u001b[39mdel\u001b[39;00m region_mapping[k]\n\u001b[1;32m    227\u001b[0m \u001b[39m# subset table to only the entires specified by 'key'\u001b[39;00m\n\u001b[1;32m    228\u001b[0m table \u001b[39m=\u001b[39m \u001b[39mself\u001b[39m\u001b[39m.\u001b[39m_sdata\u001b[39m.\u001b[39mtable\u001b[39m.\u001b[39mobs\n",
      "\u001b[0;31mKeyError\u001b[0m: 'point16_image'"
     ]
    },
    {
     "data": {
      "image/png": "[encoded data removed]",
      "text/plain": [
       "<Figure size 1200x300 with 3 Axes>"
      ]
     },
     "metadata": {},
     "output_type": "display_data"
    }
   ],
   "source": [
    "_ = (\n",
    "    mibi.pl.render_labels(cell_key=\"cell_id\", color_key=\"Cluster\").pl.show()\n",
    ")"
   ]
  }
 ],
 "metadata": {
  "kernelspec": {
   "display_name": "base",
   "language": "python",
   "name": "python3"
  },
  "language_info": {
   "codemirror_mode": {
    "name": "ipython",
    "version": 3
   },
   "file_extension": ".py",
   "mimetype": "text/x-python",
   "name": "python",
   "nbconvert_exporter": "python",
   "pygments_lexer": "ipython3",
   "version": "3.10.8"
  },
  "vscode": {
   "interpreter": {
    "hash": "830f4db94a7e048b072d559f6337879e869a5f16cc1fbf14c7dab0d06a5037ae"
   }
  }
 },
 "nbformat": 4,
 "nbformat_minor": 4
}
